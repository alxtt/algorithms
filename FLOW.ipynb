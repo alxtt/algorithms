{
 "cells": [
  {
   "cell_type": "code",
   "execution_count": 5,
   "id": "666f6781",
   "metadata": {},
   "outputs": [],
   "source": [
    "# Python program for implementation\n",
    "# of Ford Fulkerson algorithm\n",
    "from collections import defaultdict\n",
    " \n",
    "# This class represents a directed graph\n",
    "# using adjacency matrix representation\n",
    "class Graph:\n",
    " \n",
    "    def __init__(self, graph):\n",
    "        self.graph = graph  # residual graph\n",
    "        self. ROW = len(graph)\n",
    "        # self.COL = len(gr[0])\n",
    " \n",
    "    '''Returns true if there is a path from source 's' to sink 't' in\n",
    "    residual graph. Also fills parent[] to store the path '''\n",
    " \n",
    "    def BFS(self, s, t, parent):\n",
    " \n",
    "        # Mark all the vertices as not visited\n",
    "        visited = [False]*(self.ROW)\n",
    " \n",
    "        # Create a queue for BFS\n",
    "        queue = []\n",
    " \n",
    "        # Mark the source node as visited and enqueue it\n",
    "        queue.append(s)\n",
    "        visited[s] = True\n",
    " \n",
    "         # Standard BFS Loop\n",
    "        while queue:\n",
    " \n",
    "            # Dequeue a vertex from queue and print it\n",
    "            u = queue.pop(0)\n",
    " \n",
    "            # Get all adjacent vertices of the dequeued vertex u\n",
    "            # If a adjacent has not been visited, then mark it\n",
    "            # visited and enqueue it\n",
    "            for ind, val in enumerate(self.graph[u]):\n",
    "                if visited[ind] == False and val > 0:\n",
    "                      # If we find a connection to the sink node,\n",
    "                    # then there is no point in BFS anymore\n",
    "                    # We just have to set its parent and can return true\n",
    "                    queue.append(ind)\n",
    "                    visited[ind] = True\n",
    "                    parent[ind] = u\n",
    "                    if ind == t:\n",
    "                        return True\n",
    " \n",
    "        # We didn't reach sink in BFS starting\n",
    "        # from source, so return false\n",
    "        return False\n",
    "             \n",
    "     \n",
    "    # Returns tne maximum flow from s to t in the given graph\n",
    "    def FordFulkerson(self, source, sink):\n",
    " \n",
    "        # This array is filled by BFS and to store path\n",
    "        parent = [-1]*(self.ROW)\n",
    " \n",
    "        max_flow = 0 # There is no flow initially\n",
    " \n",
    "        # Augment the flow while there is path from source to sink\n",
    "        while self.BFS(source, sink, parent) :\n",
    " \n",
    "            # Find minimum residual capacity of the edges along the\n",
    "            # path filled by BFS. Or we can say find the maximum flow\n",
    "            # through the path found.\n",
    "            path_flow = float(\"Inf\")\n",
    "            s = sink\n",
    "            while(s !=  source):\n",
    "                path_flow = min (path_flow, self.graph[parent[s]][s])\n",
    "                s = parent[s]\n",
    " \n",
    "            # Add path flow to overall flow\n",
    "            max_flow +=  path_flow\n",
    " \n",
    "            # update residual capacities of the edges and reverse edges\n",
    "            # along the path\n",
    "            v = sink\n",
    "            while(v !=  source):\n",
    "                u = parent[v]\n",
    "                self.graph[u][v] -= path_flow\n",
    "                self.graph[v][u] += path_flow\n",
    "                v = parent[v]\n",
    " \n",
    "        return max_flow\n",
    "\n",
    "#This code is contributed by Neelam Yadav "
   ]
  },
  {
   "cell_type": "code",
   "execution_count": 177,
   "id": "8989107e",
   "metadata": {},
   "outputs": [],
   "source": [
    "import numpy as np\n",
    "import time\n",
    "import matplotlib.pyplot as plt\n",
    "\n",
    "time_values = []\n",
    "data_values = []\n",
    "\n",
    "ITER = 100\n",
    "VERTICES = 50\n",
    "MAX_CAPACITY = 10"
   ]
  },
  {
   "cell_type": "code",
   "execution_count": 178,
   "id": "76443313",
   "metadata": {},
   "outputs": [],
   "source": [
    "n_delta = VERTICES/ITER\n",
    "n = 0\n",
    "\n",
    "for i in range (ITER):\n",
    "    n = (int) (n + n_delta + 0.5)\n",
    " \n",
    "    graph = np.random.randint(MAX_CAPACITY, size=(n, n))\n",
    "\n",
    "    graph = np.pad(graph, [(0, 1), (1, 0)], mode='constant')\n",
    "\n",
    "    np.fill_diagonal(graph, 0)\n",
    "\n",
    "    e = np.count_nonzero(graph)\n",
    "\n",
    "    g = Graph(graph)\n",
    " \n",
    "    source = 0; sink = n\n",
    "\n",
    "    start = time.time()\n",
    "    f = g.FordFulkerson(source, sink)\n",
    "    end = time.time()\n",
    "\n",
    "    t = end - start\n",
    "\n",
    "    time_values.append(t)\n",
    "    data_values.append(e*f)"
   ]
  },
  {
   "cell_type": "code",
   "execution_count": 179,
   "id": "cc7a3f81",
   "metadata": {},
   "outputs": [
    {
     "name": "stdout",
     "output_type": "stream",
     "text": [
      "0.031030654907226562\n"
     ]
    },
    {
     "data": {
      "image/png": "[encoded data removed]",
      "text/plain": [
       "<Figure size 432x288 with 1 Axes>"
      ]
     },
     "metadata": {
      "needs_background": "light"
     },
     "output_type": "display_data"
    }
   ],
   "source": [
    "x = [0, np.amax(time_values)]\n",
    "y = [0, np.amax(data_values)]\n",
    "\n",
    "time_avg = np.amax(time_values)/2\n",
    "\n",
    "print(time_avg)\n",
    "\n",
    "plt.plot(time_values, data_values, 'ro')\n",
    "plt.plot(x, y)\n",
    "\n",
    "plt.xlabel(\"Time(s)\")\n",
    "plt.ylabel(\"E*f\")\n",
    "\n",
    "plt.show()"
   ]
  },
  {
   "cell_type": "code",
   "execution_count": null,
   "id": "5894a511",
   "metadata": {},
   "outputs": [],
   "source": []
  }
 ],
 "metadata": {
  "kernelspec": {
   "display_name": "Python 3",
   "language": "python",
   "name": "python3"
  },
  "language_info": {
   "codemirror_mode": {
    "name": "ipython",
    "version": 3
   },
   "file_extension": ".py",
   "mimetype": "text/x-python",
   "name": "python",
   "nbconvert_exporter": "python",
   "pygments_lexer": "ipython3",
   "version": "3.8.8"
  }
 },
 "nbformat": 4,
 "nbformat_minor": 5
}
